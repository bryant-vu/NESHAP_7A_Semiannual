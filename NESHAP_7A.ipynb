{
 "cells": [
  {
   "cell_type": "code",
   "execution_count": 418,
   "metadata": {
    "collapsed": true
   },
   "outputs": [],
   "source": [
    "import pandas as pd\n",
    "import xlsxwriter\n",
    "from datetime import datetime, timedelta"
   ]
  },
  {
   "cell_type": "code",
   "execution_count": 419,
   "metadata": {
    "collapsed": false
   },
   "outputs": [],
   "source": [
    "cols = [\"Datetime\",\"TIC-350.PV\"]\n",
    "\n",
    "df = pd.read_csv(\"T.csv\",header=4,encoding='utf-8')\n",
    "df = df.iloc[8:]\n",
    "df[\"Datetime\"] = df[\"Unnamed: 2\"] +\" \"+ df[\"Unnamed: 3\"]\n",
    "df = df[cols]"
   ]
  },
  {
   "cell_type": "code",
   "execution_count": 420,
   "metadata": {
    "collapsed": false
   },
   "outputs": [],
   "source": [
    "#format datatypes to YYYY:MM:DD HH\n",
    "df[\"Datetime\"] = pd.to_datetime(df[\"Datetime\"])\n",
    "df[\"TIC-350.PV\"] = pd.to_numeric(df[\"TIC-350.PV\"])\n",
    "\n",
    "df[\"Datetime\"] = pd.to_datetime(df[\"Datetime\"])\n",
    "df[\"date_hours\"] = df[\"Datetime\"].dt.strftime('%Y-%m-%d %H')\n",
    "df[\"date_hours\"] = df[\"date_hours\"].apply(lambda x: datetime.strptime(x,'%Y-%m-%d %H'))\n",
    "\n",
    "strt_yr = df[\"Datetime\"].iloc[0].year\n",
    "strt_mo = df[\"Datetime\"].iloc[0].month\n",
    "strt_day = df[\"Datetime\"].iloc[0].day\n",
    "end_yr = df[\"Datetime\"].iloc[-1].year\n",
    "end_mo = df[\"Datetime\"].iloc[-1].month\n",
    "end_day = df[\"Datetime\"].iloc[0].day"
   ]
  },
  {
   "cell_type": "code",
   "execution_count": 421,
   "metadata": {
    "collapsed": false
   },
   "outputs": [],
   "source": [
    "#T < 1400 minute events\n",
    "less_1400 = df[df[\"TIC-350.PV\"] < 1400]\n",
    "dates = less_1400[\"Datetime\"].dt.strftime('%Y-%m-%d')\n",
    "times = less_1400[\"Datetime\"].dt.strftime('%H:%M')\n",
    "temp = less_1400[\"TIC-350.PV\"].values"
   ]
  },
  {
   "cell_type": "code",
   "execution_count": 422,
   "metadata": {
    "collapsed": false
   },
   "outputs": [],
   "source": [
    "#calculate 3 hr averages for T < 1400 minute events\n",
    "date_hours = less_1400[\"Datetime\"].dt.strftime('%Y-%m-%d %H')\n",
    "date_hours = date_hours.apply(lambda x: datetime.strptime(x,'%Y-%m-%d %H'))\n",
    "\n",
    "#break hourly continuous deviation events \n",
    "events = []\n",
    "for x in date_hours:\n",
    "    for i in range(-3,4):\n",
    "        t = x + timedelta(hours=(i))\n",
    "        if t not in events:\n",
    "            events.append(t)\n",
    "            \n",
    "#convert events to date and hour strings\n",
    "events_date = [x.strftime('%Y-%m-%d') for x in events]\n",
    "events_hour = [x.strftime('%H') for x in events]\n",
    "\n",
    "#calculate hourly avgs\n",
    "hr_avgs = []\n",
    "for x in events:\n",
    "    mean = round(df[df[\"date_hours\"] == x].mean(),1)\n",
    "    hr_avgs.append(mean)\n",
    "\n",
    "#calculate running three hour avg\n",
    "three_hr_avgs = []\n",
    "for x in events:\n",
    "    mean = round(df[(df[\"date_hours\"] >= (x+timedelta(hours=-2))) & (df[\"date_hours\"] <= x)].mean(),1)\n",
    "    three_hr_avgs.append(mean)\n",
    "    \n",
    "#generate status based on three hour avg\n",
    "actions = []\n",
    "for x in three_hr_avgs:\n",
    "    if float(x) < 1400:\n",
    "        actions.append(\"REPORTABLE\")\n",
    "    else:\n",
    "        actions.append(\"No Action\")"
   ]
  },
  {
   "cell_type": "code",
   "execution_count": 423,
   "metadata": {
    "collapsed": false
   },
   "outputs": [],
   "source": [
    "#setup workbook and worksheet\n",
    "workbook = xlsxwriter.Workbook('%d_%d_%d to %d_%d_%d NESHAP 7A.xlsx' %(strt_yr,strt_mo,strt_day,end_yr,end_mo,end_day))\n",
    "worksheet1 = workbook.add_worksheet(\"3_HR_Avgs\")\n",
    "worksheet2 = workbook.add_worksheet(\"Minutes, T < 1400\")\n",
    "bold = workbook.add_format({'bold':True})\n",
    "\n",
    "worksheet1.set_column('A:A',15)\n",
    "worksheet1.set_column('C:E',12)\n",
    "worksheet2.set_column('A:A',15)\n",
    "\n",
    "\n",
    "#write filtered data into cells\n",
    "col = 0\n",
    "row = 0\n",
    "\n",
    "#write tab descriptions\n",
    "worksheet1.write(1,8,\"NESHAP 7A Requirements: Report if I-301 temp falls below 1400F on a running 3 hour average.\")\n",
    "worksheet2.write(1,8, \"This tab shows minute data when I-301 temp fell below 1400F.\")\n",
    "\n",
    "#write headers\n",
    "headers1 = [\"Date\",\"Hour\",\"HR Avg (F)\",\"3HR Avg\",\"Action\"]\n",
    "for x in headers1:\n",
    "    worksheet1.write(row,col,x,bold)\n",
    "    col += 1\n",
    "col = 0\n",
    "headers2 = [\"Date\",\"Time\",\"TIC-350.PV\"]\n",
    "for x in headers2:\n",
    "    worksheet2.write(row,col,x,bold)\n",
    "    col += 1\n",
    "\n",
    "    \n",
    "#write hr and 3hr avg data\n",
    "col = 0\n",
    "row = 1\n",
    "lists1 = [events_date,events_hour,hr_avgs,three_hr_avgs,actions]\n",
    "for x in lists1:\n",
    "    for i in x:\n",
    "        worksheet1.write(row,col,i)\n",
    "        row += 1\n",
    "    col += 1\n",
    "    row = 1\n",
    "\n",
    "\n",
    "    \n",
    "#write minute data    \n",
    "col = 0\n",
    "row = 1\n",
    "lists2 = [dates, times, temp]\n",
    "for x in lists2:\n",
    "    for i in x:\n",
    "        worksheet2.write(row,col,i)\n",
    "        row += 1\n",
    "    col += 1\n",
    "    row = 1\n",
    "\n",
    "    \n",
    "workbook.close()\n"
   ]
  }
 ],
 "metadata": {
  "anaconda-cloud": {},
  "kernelspec": {
   "display_name": "Python [conda root]",
   "language": "python",
   "name": "conda-root-py"
  },
  "language_info": {
   "codemirror_mode": {
    "name": "ipython",
    "version": 3
   },
   "file_extension": ".py",
   "mimetype": "text/x-python",
   "name": "python",
   "nbconvert_exporter": "python",
   "pygments_lexer": "ipython3",
   "version": "3.5.2"
  }
 },
 "nbformat": 4,
 "nbformat_minor": 1
}
